{
 "cells": [
  {
   "cell_type": "markdown",
   "metadata": {},
   "source": [
    "To deploy the model via a REST API we follow https://blog.keras.io/ using code from https://github.com/jrosebr1/simple-keras-rest-api"
   ]
  },
  {
   "cell_type": "code",
   "execution_count": 1,
   "metadata": {},
   "outputs": [
    {
     "name": "stdout",
     "output_type": "stream",
     "text": [
      "Deploy model via REST API 17-4-2018.ipynb\r\n",
      "Tensorflow transfer learning 16-4-2018.ipynb\r\n",
      "label_image.py\r\n",
      "\u001b[34mmobilenet_v2\u001b[m\u001b[m/\r\n"
     ]
    }
   ],
   "source": [
    "ls"
   ]
  },
  {
   "cell_type": "code",
   "execution_count": null,
   "metadata": {},
   "outputs": [],
   "source": []
  }
 ],
 "metadata": {
  "kernelspec": {
   "display_name": "Python 3",
   "language": "python",
   "name": "python3"
  },
  "language_info": {
   "codemirror_mode": {
    "name": "ipython",
    "version": 3
   },
   "file_extension": ".py",
   "mimetype": "text/x-python",
   "name": "python",
   "nbconvert_exporter": "python",
   "pygments_lexer": "ipython3",
   "version": "3.6.3"
  }
 },
 "nbformat": 4,
 "nbformat_minor": 2
}
